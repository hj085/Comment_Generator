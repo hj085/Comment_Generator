{
 "cells": [
  {
   "cell_type": "markdown",
   "metadata": {
    "collapsed": false
   },
   "source": [
    "### Comment Writing Engine\n",
    "\n",
    "#### an application to help teachers write better comments in less time\n"
   ]
  },
  {
   "cell_type": "code",
   "execution_count": 11,
   "metadata": {
    "collapsed": false
   },
   "outputs": [
   ],
   "source": [
    "# functions and code for reading data files, generating comments and writing them to files\n",
    "import csv\n",
    "\n",
    "def read_file():\n",
    "    '''\n",
    "    returns header and dictionary of students information in a list\n",
    "    '''\n",
    "    infos = {}\n",
    "    \n",
    "    with open(\"teacher.csv\") as teacher_f:\n",
    "        data = csv.reader(teacher_f, delimiter=',')\n",
    "        header = next(data)\n",
    "        for row in data:\n",
    "           \n",
    "            infos[row[0]] = [row[i] for i in range(1,9)]\n",
    "    return [header, infos]\n",
    "\n",
    "\n"
   ]
  },
  {
   "cell_type": "code",
   "execution_count": 12,
   "metadata": {
    "collapsed": false
   },
   "outputs": [
   ],
   "source": [
    "def write_comment(data):\n",
    "    '''This code takes creates a txt file for each student in data. Write '''\n",
    "    header = data[0]\n",
    "    data = data[1]\n",
    "    alldata = {}\n",
    "    for Full_Name in data.keys():\n",
    "        for i in range(1,len(header)):\n",
    "            alldata[header[i]] = data[Full_Name][i-1].strip()  \n",
    "        name = Full_Name.split()[0]\n",
    "        with open(f'{name}.txt', 'w') as student_f:\n",
    "            adjectives = (alldata['Positive_Adjectives']).lower().split(',')\n",
    "            student_f.write(f'{alldata[\"Class_Description\"]}. \\n\\n{name}, you are {adjectives[0]}')\n",
    "            if len(adjectives) >= 2:\n",
    "                for i in range(1,len(adjectives)):\n",
    "                    student_f.write(f' and {adjectives[i].strip()}')\n",
    "                \n",
    "            student_f.write(f\". You illustrated your work very well in the {alldata['Best_Work']}. Some learning indicators you exceeded in are: {alldata['Exceeding_Learning_Outcomes']}. Your work in this class was {alldata['Grade']} level. \\n\\nSome indicators that you could continue focusing devleoping are: {alldata['Developing_Learning_Outcomes']}. Work on {alldata['Suggestions']}. \\n\\n{name}, thank you for being a great member of the class, it was a pleasure to teach you!\")\n",
    "\n",
    "\n",
    "write_comment(read_file())\n",
    "            "
   ]
  },
  {
   "cell_type": "code",
   "execution_count": 13,
   "metadata": {
    "collapsed": false
   },
   "outputs": [
    {
     "ename": "NameError",
     "evalue": "name 'data' is not defined",
     "output_type": "error",
     "traceback": [
      "\u001b[0;31m---------------------------------------------------------------------------\u001b[0m",
      "\u001b[0;31mNameError\u001b[0m                                 Traceback (most recent call last)",
      "Cell \u001b[0;32mIn[13], line 1\u001b[0m\n\u001b[0;32m----> 1\u001b[0m Positive_Adjectives \u001b[38;5;241m=\u001b[39m \u001b[43mdata\u001b[49m[Full_Name][\u001b[38;5;241m0\u001b[39m]\u001b[38;5;241m.\u001b[39mstrip()\n\u001b[1;32m      2\u001b[0m Suggestions \u001b[38;5;241m=\u001b[39m data[Full_Name][\u001b[38;5;241m1\u001b[39m]\n\u001b[1;32m      3\u001b[0m Grade \u001b[38;5;241m=\u001b[39m data[Full_Name][\u001b[38;5;241m2\u001b[39m]\n",
      "\u001b[0;31mNameError\u001b[0m: name 'data' is not defined"
     ]
    }
   ],
   "source": [
    "Positive_Adjectives = data[Full_Name][0].strip()\n",
    "Suggestions = data[Full_Name][1]\n",
    "Grade = data[Full_Name][2]\n",
    "Class_Description = data[Full_Name][3]\n",
    "Best_Work = data[Full_Name][4]\n",
    "Exceeding_Learning_Outcomes = data[Full_Name][5]\n",
    "Developing_Learning_Outcomes = data[Full_Name][6]\n",
    "Class_Name = data[Full_Name][7]    "
   ]
  },
  {
   "cell_type": "code",
   "execution_count": 62,
   "metadata": {
    "collapsed": false
   },
   "outputs": [
    {
     "name": "stdout",
     "output_type": "stream",
     "text": [
      "In Hani.txt the line [Hanii, thank you for being a great member of the class, it was a pleasure to teach you!] has name(s) ['John']\n"
     ]
    }
   ],
   "source": [
    "def wrong_name():\n",
    "    '''\n",
    "    checks a student's comment\n",
    "    prints the wrong name written and the line it is written if there is another student's name\n",
    "    '''\n",
    "    infos = read_file()[1]\n",
    "    \n",
    "    names = [name for name in infos.keys()]\n",
    "    \n",
    "    names_sep = []\n",
    "    for name in names:\n",
    "        name = name.split()\n",
    "        names_sep.append([name[0], name[-1]])\n",
    "    \n",
    "    for i in range(len(names)):\n",
    "        other_names = [name for name in names_sep if name != names_sep[i]]\n",
    "        f_name = names_sep[i][0]+\".txt\"\n",
    "        with open(f_name) as student_f:\n",
    "            wrong = []\n",
    "            for line in student_f:\n",
    "                for name in other_names:\n",
    "                    for n in name:\n",
    "                        if n.lower() in line.lower():\n",
    "                            \n",
    "                            wrong.append(n)\n",
    "            if wrong:\n",
    "                print(f\"In {f_name} the line [{line.strip()}] has name(s) {wrong}\")\n",
    "wrong_name()"
   ]
  },
  {
   "cell_type": "code",
   "execution_count": 105,
   "metadata": {
    "collapsed": false
   },
   "outputs": [
    {
     "name": "stdout",
     "output_type": "stream",
     "text": [
      "True\n",
      "False\n"
     ]
    }
   ],
   "source": [
    "def one_away(word1, word2):\n",
    "    word1 = word1.lower()\n",
    "    word2 = word2.lower()\n",
    "    count = 0\n",
    "    count2 = 0\n",
    "    if len(word1) == len(word2) and word1 != word2:\n",
    "        for i in range(len(word2)):\n",
    "            if word1[i] == word2[i]:\n",
    "                count += 1\n",
    "        if count == len(word1)-1:\n",
    "            return True\n",
    "        \n",
    "        for i in range(len(word1)):\n",
    "            if word1[i] in word2:\n",
    "                if word1[i] != word2[i]:\n",
    "                    count2 += 1\n",
    "            if word1[i] not in word2:\n",
    "                return False\n",
    "            \n",
    "        if count2 == 2:\n",
    "            return True\n",
    "    \n",
    "    \n",
    "    return False\n"
   ]
  },
  {
   "cell_type": "code",
   "execution_count": 109,
   "metadata": {
    "collapsed": false
   },
   "outputs": [
    {
     "name": "stdout",
     "output_type": "stream",
     "text": [
      "In Hani.txt, in the line [hnai, John you are prepared and curious. You Hain illustrated your work very well in the Comment Project. Some learning indicators you exceeded in are: Participating in class. Your work in this class was A- level.] you may have spelled the name [Hani] as [hnai]\n",
      "In Hani.txt, in the line [hnai, John you are prepared and curious. You Hain illustrated your work very well in the Comment Project. Some learning indicators you exceeded in are: Participating in class. Your work in this class was A- level.] you may have spelled the name [Hani] as [Hain]\n"
     ]
    }
   ],
   "source": [
    "def wrong_spelling():\n",
    "    '''\n",
    "    checks a student's comment\n",
    "    prints the spelling that might be a mistake of the student name\n",
    "    (if a word is in the same length and one letter differnt from a student's name or\n",
    "    the length the same but the position of two letters is changed)\n",
    "    written and the line it is written if there is one\n",
    "    '''\n",
    "    infos = read_file()[1]\n",
    "    \n",
    "    names = [name for name in infos.keys()]\n",
    "    \n",
    "    names_sep = []\n",
    "    for name in names:\n",
    "        name = name.split()\n",
    "        names_sep.append(name[0])\n",
    "        names_sep.append(name[-1])\n",
    "        \n",
    "    \n",
    "    for i in range(len(names)):\n",
    "        stu_names = [name for name in names_sep if name in names[i]]\n",
    "        f_name = stu_names[0]+\".txt\"\n",
    "        with open(f_name) as student_f:\n",
    "            for line in student_f:\n",
    "                for word in line.split():\n",
    "                    word = word.replace(\",\",\"\")\n",
    "                    word = word.replace(\".\",\"\")\n",
    "                    if one_away(word, stu_names[0]):\n",
    "                        print(f\"In {f_name}, in the line [{line.strip()}] you may have spelled the name [{stu_names[0]}] as [{word}]\")\n",
    "                    \n",
    "\n",
    "wrong_spelling()"
   ]
  },
  {
   "cell_type": "code",
   "execution_count": 0,
   "metadata": {
    "collapsed": false
   },
   "outputs": [
   ],
   "source": [
   ]
  },
  {
   "cell_type": "code",
   "execution_count": 0,
   "metadata": {
    "collapsed": false
   },
   "outputs": [
   ],
   "source": [
   ]
  },
  {
   "cell_type": "code",
   "execution_count": 0,
   "metadata": {
    "collapsed": false
   },
   "outputs": [
   ],
   "source": [
   ]
  }
 ],
 "metadata": {
  "kernelspec": {
   "argv": [
    "/ext/jupyter/kernels/anaconda2022/launch.sh",
    "{connection_file}"
   ],
   "display_name": "Python 3 (Anaconda 2022)",
   "env": {
   },
   "language": "python",
   "metadata": {
    "cocalc": {
     "description": "Anaconda 2022.05 Python 3 environment",
     "priority": 5,
     "url": "https://www.anaconda.com/distribution/"
    }
   },
   "name": "anaconda2022",
   "resource_dir": "/ext/jupyter/kernels/anaconda2022"
  },
  "language_info": {
   "codemirror_mode": {
    "name": "ipython",
    "version": 3
   },
   "file_extension": ".py",
   "mimetype": "text/x-python",
   "name": "python",
   "nbconvert_exporter": "python",
   "pygments_lexer": "ipython3",
   "version": "3.9.15"
  }
 },
 "nbformat": 4,
 "nbformat_minor": 4
}